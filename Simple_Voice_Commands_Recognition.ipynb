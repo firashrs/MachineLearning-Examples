{
  "nbformat": 4,
  "nbformat_minor": 0,
  "metadata": {
    "colab": {
      "name": "Simple Voice Commands Recognition.ipynb",
      "provenance": [],
      "collapsed_sections": []
    },
    "kernelspec": {
      "name": "python3",
      "display_name": "Python 3"
    },
    "language_info": {
      "name": "python"
    },
    "accelerator": "GPU"
  },
  "cells": [
    {
      "cell_type": "markdown",
      "metadata": {
        "id": "69GokcV-HXOj"
      },
      "source": [
        "#Importing Modules"
      ]
    },
    {
      "cell_type": "code",
      "metadata": {
        "id": "4mJjFE_gy4L_"
      },
      "source": [
        "import os\n",
        "import pathlib\n",
        "\n",
        "import matplotlib.pyplot as plt\n",
        "import numpy as np\n",
        "import seaborn as sns\n",
        "import tensorflow as tf\n",
        "\n",
        "from tensorflow.keras import layers\n",
        "from tensorflow.keras import models\n",
        "from IPython import display"
      ],
      "execution_count": 1,
      "outputs": []
    },
    {
      "cell_type": "code",
      "metadata": {
        "id": "zO8Y2508Hco6"
      },
      "source": [
        "seed = 42\n",
        "tf.random.set_seed(seed)\n",
        "np.random.seed(seed)"
      ],
      "execution_count": 2,
      "outputs": []
    },
    {
      "cell_type": "markdown",
      "metadata": {
        "id": "kkbwSFbPHgTo"
      },
      "source": [
        "#Importing Dataset"
      ]
    },
    {
      "cell_type": "code",
      "metadata": {
        "colab": {
          "base_uri": "https://localhost:8080/"
        },
        "id": "oFCSd4sAHkb3",
        "outputId": "9dd27fce-8f6e-48bf-b7f1-bb9eb352b6d8"
      },
      "source": [
        "data_dir = pathlib.Path('data/mini_speech_commands')\n",
        "if not data_dir.exists():\n",
        "  tf.keras.utils.get_file(\n",
        "      'mini_speech_commands.zip',\n",
        "      origin=\"http://storage.googleapis.com/download.tensorflow.org/data/mini_speech_commands.zip\",\n",
        "      extract=True,\n",
        "      cache_dir='.', cache_subdir='data')"
      ],
      "execution_count": 3,
      "outputs": [
        {
          "output_type": "stream",
          "name": "stdout",
          "text": [
            "Downloading data from http://storage.googleapis.com/download.tensorflow.org/data/mini_speech_commands.zip\n",
            "182083584/182082353 [==============================] - 1s 0us/step\n",
            "182091776/182082353 [==============================] - 1s 0us/step\n"
          ]
        }
      ]
    },
    {
      "cell_type": "code",
      "metadata": {
        "id": "PJAdWcFSHuy0"
      },
      "source": [
        "filenames = tf.io.gfile.glob(str(data_dir) + '/*/*')\n",
        "filenames = tf.random.shuffle(filenames)\n",
        "num_samples = len(filenames)"
      ],
      "execution_count": 4,
      "outputs": []
    },
    {
      "cell_type": "code",
      "metadata": {
        "colab": {
          "base_uri": "https://localhost:8080/"
        },
        "id": "I0z7nb38WL-5",
        "outputId": "ee63980c-778b-42b3-de8c-a19294dabcef"
      },
      "source": [
        "commands = np.array(tf.io.gfile.listdir(str(data_dir)))\n",
        "commands = commands[commands != 'README.md']\n",
        "print('Commands:', commands)"
      ],
      "execution_count": 5,
      "outputs": [
        {
          "output_type": "stream",
          "name": "stdout",
          "text": [
            "Commands: ['right' 'down' 'stop' 'no' 'go' 'left' 'up' 'yes']\n"
          ]
        }
      ]
    },
    {
      "cell_type": "markdown",
      "metadata": {
        "id": "6hcm87w-BEmg"
      },
      "source": [
        "#Prepairing Waveform Data"
      ]
    },
    {
      "cell_type": "code",
      "metadata": {
        "id": "EQzTqFUcILp7"
      },
      "source": [
        "def get_waveform_and_label(file_path):\n",
        "  parts = tf.strings.split(file_path, os.path.sep)\n",
        "  label = parts[-2]\n",
        "\n",
        "  audio_binary = tf.io.read_file(file_path)\n",
        "\n",
        "  audio, _ = tf.audio.decode_wav(audio_binary)\n",
        "  waveform = tf.squeeze(audio, axis=-1)\n",
        "  \n",
        "  return waveform, label"
      ],
      "execution_count": 6,
      "outputs": []
    },
    {
      "cell_type": "markdown",
      "metadata": {
        "id": "WVZNHFWZPN8f"
      },
      "source": [
        "#Prepairing Spectogram Data"
      ]
    },
    {
      "cell_type": "code",
      "metadata": {
        "id": "qhE-wEAkUQ7N"
      },
      "source": [
        "def get_spectrogram_and_label_id(audio_waveform, label):\n",
        "  zero_padding = tf.zeros([16000] - tf.shape(audio_waveform), dtype=tf.float32)\n",
        "  audio_waveform = tf.cast(audio_waveform, tf.float32)\n",
        "  equal_length = tf.concat([audio_waveform, zero_padding], 0)\n",
        "  spectrogram = tf.signal.stft(equal_length, frame_length=255, frame_step=128)    \n",
        "  spectrogram = tf.abs(spectrogram)\n",
        "\n",
        "  spectrogram = tf.expand_dims(spectrogram, -1)\n",
        "  label_id = tf.argmax(label == commands)\n",
        "  return spectrogram, label_id"
      ],
      "execution_count": 7,
      "outputs": []
    },
    {
      "cell_type": "markdown",
      "metadata": {
        "id": "ZYZxceAzH_Lw"
      },
      "source": [
        "#Splitting data"
      ]
    },
    {
      "cell_type": "code",
      "metadata": {
        "id": "ei0aKDQHbshI"
      },
      "source": [
        "def preprocess_dataset(files):\n",
        "  files_ds = tf.data.Dataset.from_tensor_slices(files)\n",
        "  waveform_ds = files_ds.map(get_waveform_and_label, num_parallel_calls=tf.data.AUTOTUNE)\n",
        "  spectogram_ds = waveform_ds.map(get_spectrogram_and_label_id,  num_parallel_calls=tf.data.AUTOTUNE)\n",
        "  return spectogram_ds"
      ],
      "execution_count": 8,
      "outputs": []
    },
    {
      "cell_type": "code",
      "metadata": {
        "id": "YTsd2p46ID-z"
      },
      "source": [
        "train_files = filenames[:6400]\n",
        "val_files = filenames[6400: 6400 + 800]\n",
        "test_files = filenames[-800:]"
      ],
      "execution_count": 9,
      "outputs": []
    },
    {
      "cell_type": "code",
      "metadata": {
        "id": "hyOEntUmcQhj"
      },
      "source": [
        "train_ds = preprocess_dataset(train_files)\n",
        "val_ds = preprocess_dataset(val_files)\n",
        "test_ds = preprocess_dataset(test_files)"
      ],
      "execution_count": 10,
      "outputs": []
    },
    {
      "cell_type": "markdown",
      "metadata": {
        "id": "3wdjyMnrZDib"
      },
      "source": [
        "#Preparing Data"
      ]
    },
    {
      "cell_type": "code",
      "metadata": {
        "id": "xYkZbJ3vaTzH"
      },
      "source": [
        "batch_size = 64\n",
        "train_ds = train_ds.batch(batch_size)\n",
        "val_ds = val_ds.batch(batch_size)"
      ],
      "execution_count": 11,
      "outputs": []
    },
    {
      "cell_type": "code",
      "metadata": {
        "id": "PMpoKA0UaVB7"
      },
      "source": [
        "train_ds = train_ds.cache().prefetch(tf.data.AUTOTUNE)\n",
        "val_ds = val_ds.cache().prefetch(tf.data.AUTOTUNE)"
      ],
      "execution_count": 12,
      "outputs": []
    },
    {
      "cell_type": "markdown",
      "metadata": {
        "id": "2Wc8Gi5RabcQ"
      },
      "source": [
        "#Creating Model"
      ]
    },
    {
      "cell_type": "code",
      "metadata": {
        "colab": {
          "base_uri": "https://localhost:8080/"
        },
        "id": "iggvZX_RadDw",
        "outputId": "ad87d9aa-52fb-456a-f41c-6f5065c5c5f7"
      },
      "source": [
        "for spectrogram, _ in train_ds.take(1):\n",
        "  input_shape = spectrogram[0].shape\n",
        "print('Input shape:', input_shape)\n",
        "num_labels = len(commands)\n",
        "\n",
        "norm_layer = layers.Normalization()\n",
        "norm_layer.adapt(train_ds.map(lambda x, _: x))\n",
        "\n",
        "model = models.Sequential([\n",
        "    layers.Input(shape=input_shape),\n",
        "    layers.Resizing(32, 32), \n",
        "    norm_layer,\n",
        "    layers.Conv2D(32, 3, activation='relu'),\n",
        "    layers.Conv2D(64, 3, activation='relu'),\n",
        "    layers.MaxPooling2D(),\n",
        "    layers.Dropout(0.25),\n",
        "    layers.Flatten(),\n",
        "    layers.Dense(128, activation='relu'),\n",
        "    layers.Dropout(0.5),\n",
        "    layers.Dense(num_labels),\n",
        "])\n",
        "\n",
        "model.summary()"
      ],
      "execution_count": 13,
      "outputs": [
        {
          "output_type": "stream",
          "name": "stdout",
          "text": [
            "Input shape: (124, 129, 1)\n",
            "Model: \"sequential\"\n",
            "_________________________________________________________________\n",
            " Layer (type)                Output Shape              Param #   \n",
            "=================================================================\n",
            " resizing (Resizing)         (None, 32, 32, 1)         0         \n",
            "                                                                 \n",
            " normalization (Normalizatio  (None, 32, 32, 1)        3         \n",
            " n)                                                              \n",
            "                                                                 \n",
            " conv2d (Conv2D)             (None, 30, 30, 32)        320       \n",
            "                                                                 \n",
            " conv2d_1 (Conv2D)           (None, 28, 28, 64)        18496     \n",
            "                                                                 \n",
            " max_pooling2d (MaxPooling2D  (None, 14, 14, 64)       0         \n",
            " )                                                               \n",
            "                                                                 \n",
            " dropout (Dropout)           (None, 14, 14, 64)        0         \n",
            "                                                                 \n",
            " flatten (Flatten)           (None, 12544)             0         \n",
            "                                                                 \n",
            " dense (Dense)               (None, 128)               1605760   \n",
            "                                                                 \n",
            " dropout_1 (Dropout)         (None, 128)               0         \n",
            "                                                                 \n",
            " dense_1 (Dense)             (None, 8)                 1032      \n",
            "                                                                 \n",
            "=================================================================\n",
            "Total params: 1,625,611\n",
            "Trainable params: 1,625,608\n",
            "Non-trainable params: 3\n",
            "_________________________________________________________________\n"
          ]
        }
      ]
    },
    {
      "cell_type": "code",
      "metadata": {
        "id": "hMuiuCqhar8R"
      },
      "source": [
        "model.compile(\n",
        "    optimizer=tf.keras.optimizers.Adam(),\n",
        "    loss=tf.keras.losses.SparseCategoricalCrossentropy(from_logits=True),\n",
        "    metrics=['accuracy'],\n",
        ")"
      ],
      "execution_count": 14,
      "outputs": []
    },
    {
      "cell_type": "code",
      "metadata": {
        "colab": {
          "base_uri": "https://localhost:8080/"
        },
        "id": "dRj7lF0xatpX",
        "outputId": "22b8e0f7-ff18-481d-93ae-5b5f38a7d901"
      },
      "source": [
        "EPOCHS = 10\n",
        "history = model.fit(\n",
        "    train_ds, \n",
        "    validation_data=val_ds,  \n",
        "    epochs=EPOCHS,\n",
        "    callbacks=tf.keras.callbacks.EarlyStopping(verbose=1, patience=2),\n",
        ")"
      ],
      "execution_count": 15,
      "outputs": [
        {
          "output_type": "stream",
          "name": "stdout",
          "text": [
            "Epoch 1/10\n",
            "100/100 [==============================] - 33s 34ms/step - loss: 1.7257 - accuracy: 0.3748 - val_loss: 1.3112 - val_accuracy: 0.5713\n",
            "Epoch 2/10\n",
            "100/100 [==============================] - 1s 12ms/step - loss: 1.1555 - accuracy: 0.5991 - val_loss: 0.9564 - val_accuracy: 0.6888\n",
            "Epoch 3/10\n",
            "100/100 [==============================] - 1s 12ms/step - loss: 0.8725 - accuracy: 0.6966 - val_loss: 0.7971 - val_accuracy: 0.7500\n",
            "Epoch 4/10\n",
            "100/100 [==============================] - 1s 12ms/step - loss: 0.7005 - accuracy: 0.7542 - val_loss: 0.7206 - val_accuracy: 0.7600\n",
            "Epoch 5/10\n",
            "100/100 [==============================] - 1s 12ms/step - loss: 0.6150 - accuracy: 0.7794 - val_loss: 0.6553 - val_accuracy: 0.7887\n",
            "Epoch 6/10\n",
            "100/100 [==============================] - 1s 13ms/step - loss: 0.5318 - accuracy: 0.8108 - val_loss: 0.6025 - val_accuracy: 0.7987\n",
            "Epoch 7/10\n",
            "100/100 [==============================] - 1s 12ms/step - loss: 0.4846 - accuracy: 0.8309 - val_loss: 0.6122 - val_accuracy: 0.7912\n",
            "Epoch 8/10\n",
            "100/100 [==============================] - 1s 12ms/step - loss: 0.4281 - accuracy: 0.8497 - val_loss: 0.5746 - val_accuracy: 0.8200\n",
            "Epoch 9/10\n",
            "100/100 [==============================] - 1s 12ms/step - loss: 0.3949 - accuracy: 0.8591 - val_loss: 0.5586 - val_accuracy: 0.8313\n",
            "Epoch 10/10\n",
            "100/100 [==============================] - 1s 12ms/step - loss: 0.3632 - accuracy: 0.8708 - val_loss: 0.5774 - val_accuracy: 0.8238\n"
          ]
        }
      ]
    },
    {
      "cell_type": "code",
      "metadata": {
        "colab": {
          "base_uri": "https://localhost:8080/",
          "height": 265
        },
        "id": "p1U7v1kdebIt",
        "outputId": "92803fbb-b835-46f4-e7ab-d77cd709f2ba"
      },
      "source": [
        "metrics = history.history\n",
        "plt.plot(history.epoch, metrics['loss'], metrics['val_loss'])\n",
        "plt.legend(['loss', 'val_loss'])\n",
        "plt.show()"
      ],
      "execution_count": 16,
      "outputs": [
        {
          "output_type": "display_data",
          "data": {
            "image/png": "[encoded data removed]",
            "text/plain": [
              "<Figure size 432x288 with 1 Axes>"
            ]
          },
          "metadata": {
            "needs_background": "light"
          }
        }
      ]
    },
    {
      "cell_type": "markdown",
      "metadata": {
        "id": "fPsXe1FUelgt"
      },
      "source": [
        "#Evaluating the Model"
      ]
    },
    {
      "cell_type": "code",
      "metadata": {
        "id": "f4NgJ66Eeohs"
      },
      "source": [
        "test_audio = []\n",
        "test_labels = []\n",
        "\n",
        "for audio, label in test_ds:\n",
        "  test_audio.append(audio.numpy())\n",
        "  test_labels.append(label.numpy())\n",
        "\n",
        "test_audio = np.array(test_audio)\n",
        "test_labels = np.array(test_labels)"
      ],
      "execution_count": 17,
      "outputs": []
    },
    {
      "cell_type": "code",
      "metadata": {
        "colab": {
          "base_uri": "https://localhost:8080/"
        },
        "id": "wEhVxrLCerLx",
        "outputId": "3915ca4c-5862-4d85-f90a-7df89b5aa226"
      },
      "source": [
        "y_pred = np.argmax(model.predict(test_audio), axis=1)\n",
        "y_true = test_labels\n",
        "\n",
        "test_acc = sum(y_pred == y_true) / len(y_true)\n",
        "print(f'Test set accuracy: {test_acc:.0%}')"
      ],
      "execution_count": 18,
      "outputs": [
        {
          "output_type": "stream",
          "name": "stdout",
          "text": [
            "Test set accuracy: 82%\n"
          ]
        }
      ]
    },
    {
      "cell_type": "code",
      "metadata": {
        "colab": {
          "base_uri": "https://localhost:8080/",
          "height": 497
        },
        "id": "lWEuzOC1e0Ay",
        "outputId": "727b5942-522e-4706-f098-16885b909383"
      },
      "source": [
        "confusion_mtx = tf.math.confusion_matrix(y_true, y_pred) \n",
        "plt.figure(figsize=(10, 8))\n",
        "sns.heatmap(confusion_mtx, xticklabels=commands, yticklabels=commands, \n",
        "            annot=True, fmt='g')\n",
        "plt.xlabel('Prediction')\n",
        "plt.ylabel('Label')\n",
        "plt.show()"
      ],
      "execution_count": 19,
      "outputs": [
        {
          "output_type": "display_data",
          "data": {
            "image/png": "[encoded data removed]",
            "text/plain": [
              "<Figure size 720x576 with 2 Axes>"
            ]
          },
          "metadata": {
            "needs_background": "light"
          }
        }
      ]
    },
    {
      "cell_type": "markdown",
      "metadata": {
        "id": "urEE4rNpe6eW"
      },
      "source": [
        "#Inferencing"
      ]
    },
    {
      "cell_type": "code",
      "metadata": {
        "colab": {
          "base_uri": "https://localhost:8080/",
          "height": 281
        },
        "id": "1Rb4GGSRe72_",
        "outputId": "22646b00-b1b9-4c97-92a4-2f76829b92da"
      },
      "source": [
        "sample_file = data_dir/'no/01bb6a2a_nohash_0.wav'\n",
        "\n",
        "sample_ds = preprocess_dataset([str(sample_file)])\n",
        "\n",
        "for spectrogram, label in sample_ds.batch(1):\n",
        "  prediction = model(spectrogram)\n",
        "  plt.bar(commands, tf.nn.softmax(prediction[0]))\n",
        "  plt.title(f'Predictions for \"{commands[label[0]]}\"')\n",
        "  plt.show()"
      ],
      "execution_count": 20,
      "outputs": [
        {
          "output_type": "display_data",
          "data": {
            "image/png": "[encoded data removed]",
            "text/plain": [
              "<Figure size 432x288 with 1 Axes>"
            ]
          },
          "metadata": {
            "needs_background": "light"
          }
        }
      ]
    }
  ]
}