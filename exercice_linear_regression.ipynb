{
  "nbformat": 4,
  "nbformat_minor": 0,
  "metadata": {
    "colab": {
      "provenance": []
    },
    "kernelspec": {
      "name": "python3",
      "display_name": "Python 3"
    },
    "language_info": {
      "name": "python"
    }
  },
  "cells": [
    {
      "cell_type": "markdown",
      "source": [
        "#Importing DataSet"
      ],
      "metadata": {
        "id": "4TRZ5CgYV23D"
      }
    },
    {
      "cell_type": "code",
      "execution_count": 221,
      "metadata": {
        "colab": {
          "base_uri": "https://localhost:8080/",
          "height": 265
        },
        "id": "jpK5xzbsDkOC",
        "outputId": "85ef8ae6-a8ce-4e35-8bed-c9713d0d7697"
      },
      "outputs": [
        {
          "output_type": "display_data",
          "data": {
            "text/plain": [
              "<Figure size 432x288 with 1 Axes>"
            ],
            "image/png": "[encoded data removed]"
          },
          "metadata": {
            "needs_background": "light"
          }
        }
      ],
      "source": [
        "# On importe les librairies dont on aura besoin pour ce tp\n",
        "import numpy as np\n",
        "import pandas as pd\n",
        "import matplotlib.pyplot as plt\n",
        "\n",
        "# On charge le dataset\n",
        "house_data = pd.read_csv('house_data.csv')\n",
        "\n",
        "# On affiche le nuage de points dont on dispose\n",
        "plt.plot(house_data['surface'], house_data['price'], 'ro', markersize=4)\n",
        "plt.show()"
      ]
    },
    {
      "cell_type": "markdown",
      "source": [
        "#Cleaning"
      ],
      "metadata": {
        "id": "OkVM_D6FV6rg"
      }
    },
    {
      "cell_type": "code",
      "source": [
        "house_data = house_data[house_data['price'] < 10000]"
      ],
      "metadata": {
        "id": "3WwlV4aDb-SB"
      },
      "execution_count": 222,
      "outputs": []
    },
    {
      "cell_type": "code",
      "source": [
        "house_data.head()"
      ],
      "metadata": {
        "colab": {
          "base_uri": "https://localhost:8080/",
          "height": 206
        },
        "id": "dw7nva14bkXS",
        "outputId": "4d46e757-4874-4584-c3f2-e4235472f70b"
      },
      "execution_count": 223,
      "outputs": [
        {
          "output_type": "execute_result",
          "data": {
            "text/plain": [
              "   price  surface  arrondissement\n",
              "0   1820     46.1             1.0\n",
              "1   1750     41.0             1.0\n",
              "2   1900     55.0             1.0\n",
              "3   1950     46.0             1.0\n",
              "4   1950     49.0             1.0"
            ],
            "text/html": [
              "\n",
              "  <div id=\"df-339b2475-a8bf-4e6a-937c-5b3c99c3cf45\">\n",
              "    <div class=\"colab-df-container\">\n",
              "      <div>\n",
              "<style scoped>\n",
              "    .dataframe tbody tr th:only-of-type {\n",
              "        vertical-align: middle;\n",
              "    }\n",
              "\n",
              "    .dataframe tbody tr th {\n",
              "        vertical-align: top;\n",
              "    }\n",
              "\n",
              "    .dataframe thead th {\n",
              "        text-align: right;\n",
              "    }\n",
              "</style>\n",
              "<table border=\"1\" class=\"dataframe\">\n",
              "  <thead>\n",
              "    <tr style=\"text-align: right;\">\n",
              "      <th></th>\n",
              "      <th>price</th>\n",
              "      <th>surface</th>\n",
              "      <th>arrondissement</th>\n",
              "    </tr>\n",
              "  </thead>\n",
              "  <tbody>\n",
              "    <tr>\n",
              "      <th>0</th>\n",
              "      <td>1820</td>\n",
              "      <td>46.1</td>\n",
              "      <td>1.0</td>\n",
              "    </tr>\n",
              "    <tr>\n",
              "      <th>1</th>\n",
              "      <td>1750</td>\n",
              "      <td>41.0</td>\n",
              "      <td>1.0</td>\n",
              "    </tr>\n",
              "    <tr>\n",
              "      <th>2</th>\n",
              "      <td>1900</td>\n",
              "      <td>55.0</td>\n",
              "      <td>1.0</td>\n",
              "    </tr>\n",
              "    <tr>\n",
              "      <th>3</th>\n",
              "      <td>1950</td>\n",
              "      <td>46.0</td>\n",
              "      <td>1.0</td>\n",
              "    </tr>\n",
              "    <tr>\n",
              "      <th>4</th>\n",
              "      <td>1950</td>\n",
              "      <td>49.0</td>\n",
              "      <td>1.0</td>\n",
              "    </tr>\n",
              "  </tbody>\n",
              "</table>\n",
              "</div>\n",
              "      <button class=\"colab-df-convert\" onclick=\"convertToInteractive('df-339b2475-a8bf-4e6a-937c-5b3c99c3cf45')\"\n",
              "              title=\"Convert this dataframe to an interactive table.\"\n",
              "              style=\"display:none;\">\n",
              "        \n",
              "  <svg xmlns=\"http://www.w3.org/2000/svg\" height=\"24px\"viewBox=\"0 0 24 24\"\n",
              "       width=\"24px\">\n",
              "    <path d=\"M0 0h24v24H0V0z\" fill=\"none\"/>\n",
              "    <path d=\"M18.56 5.44l.94 2.06.94-2.06 2.06-.94-2.06-.94-.94-2.06-.94 2.06-2.06.94zm-11 1L8.5 8.5l.94-2.06 2.06-.94-2.06-.94L8.5 2.5l-.94 2.06-2.06.94zm10 10l.94 2.06.94-2.06 2.06-.94-2.06-.94-.94-2.06-.94 2.06-2.06.94z\"/><path d=\"M17.41 7.96l-1.37-1.37c-.4-.4-.92-.59-1.43-.59-.52 0-1.04.2-1.43.59L10.3 9.45l-7.72 7.72c-.78.78-.78 2.05 0 2.83L4 21.41c.39.39.9.59 1.41.59.51 0 1.02-.2 1.41-.59l7.78-7.78 2.81-2.81c.8-.78.8-2.07 0-2.86zM5.41 20L4 18.59l7.72-7.72 1.47 1.35L5.41 20z\"/>\n",
              "  </svg>\n",
              "      </button>\n",
              "      \n",
              "  <style>\n",
              "    .colab-df-container {\n",
              "      display:flex;\n",
              "      flex-wrap:wrap;\n",
              "      gap: 12px;\n",
              "    }\n",
              "\n",
              "    .colab-df-convert {\n",
              "      background-color: #E8F0FE;\n",
              "      border: none;\n",
              "      border-radius: 50%;\n",
              "      cursor: pointer;\n",
              "      display: none;\n",
              "      fill: #1967D2;\n",
              "      height: 32px;\n",
              "      padding: 0 0 0 0;\n",
              "      width: 32px;\n",
              "    }\n",
              "\n",
              "    .colab-df-convert:hover {\n",
              "      background-color: #E2EBFA;\n",
              "      box-shadow: 0px 1px 2px rgba(60, 64, 67, 0.3), 0px 1px 3px 1px rgba(60, 64, 67, 0.15);\n",
              "      fill: #174EA6;\n",
              "    }\n",
              "\n",
              "    [theme=dark] .colab-df-convert {\n",
              "      background-color: #3B4455;\n",
              "      fill: #D2E3FC;\n",
              "    }\n",
              "\n",
              "    [theme=dark] .colab-df-convert:hover {\n",
              "      background-color: #434B5C;\n",
              "      box-shadow: 0px 1px 3px 1px rgba(0, 0, 0, 0.15);\n",
              "      filter: drop-shadow(0px 1px 2px rgba(0, 0, 0, 0.3));\n",
              "      fill: #FFFFFF;\n",
              "    }\n",
              "  </style>\n",
              "\n",
              "      <script>\n",
              "        const buttonEl =\n",
              "          document.querySelector('#df-339b2475-a8bf-4e6a-937c-5b3c99c3cf45 button.colab-df-convert');\n",
              "        buttonEl.style.display =\n",
              "          google.colab.kernel.accessAllowed ? 'block' : 'none';\n",
              "\n",
              "        async function convertToInteractive(key) {\n",
              "          const element = document.querySelector('#df-339b2475-a8bf-4e6a-937c-5b3c99c3cf45');\n",
              "          const dataTable =\n",
              "            await google.colab.kernel.invokeFunction('convertToInteractive',\n",
              "                                                     [key], {});\n",
              "          if (!dataTable) return;\n",
              "\n",
              "          const docLinkHtml = 'Like what you see? Visit the ' +\n",
              "            '<a target=\"_blank\" href=https://colab.research.google.com/notebooks/data_table.ipynb>data table notebook</a>'\n",
              "            + ' to learn more about interactive tables.';\n",
              "          element.innerHTML = '';\n",
              "          dataTable['output_type'] = 'display_data';\n",
              "          await google.colab.output.renderOutput(dataTable, element);\n",
              "          const docLink = document.createElement('div');\n",
              "          docLink.innerHTML = docLinkHtml;\n",
              "          element.appendChild(docLink);\n",
              "        }\n",
              "      </script>\n",
              "    </div>\n",
              "  </div>\n",
              "  "
            ]
          },
          "metadata": {},
          "execution_count": 223
        }
      ]
    },
    {
      "cell_type": "markdown",
      "source": [
        "#6 Features Model"
      ],
      "metadata": {
        "id": "c7CZ5SjwV_2F"
      }
    },
    {
      "cell_type": "code",
      "source": [
        "data = house_data.copy()\n",
        "target = data.pop('price')"
      ],
      "metadata": {
        "id": "74HN14W3bvXt"
      },
      "execution_count": 224,
      "outputs": []
    },
    {
      "cell_type": "markdown",
      "source": [
        "##One Hot Encoding"
      ],
      "metadata": {
        "id": "fMsjgaKzWJme"
      }
    },
    {
      "cell_type": "code",
      "source": [
        "import pandas as pd\n",
        "\n",
        "df = pd.DataFrame(data)\n",
        "one_hot_encoded_data = pd.get_dummies(data, columns = ['arrondissement'])\n",
        "one_hot_encoded_data  \n",
        "print(one_hot_encoded_data)"
      ],
      "metadata": {
        "colab": {
          "base_uri": "https://localhost:8080/"
        },
        "id": "_WifcwOUUa8d",
        "outputId": "b777096b-a254-4594-f911-04fb4aa53861"
      },
      "execution_count": 225,
      "outputs": [
        {
          "output_type": "stream",
          "name": "stdout",
          "text": [
            "     surface  arrondissement_1.0  arrondissement_2.0  arrondissement_3.0  \\\n",
            "0      46.10                   1                   0                   0   \n",
            "1      41.00                   1                   0                   0   \n",
            "2      55.00                   1                   0                   0   \n",
            "3      46.00                   1                   0                   0   \n",
            "4      49.00                   1                   0                   0   \n",
            "..       ...                 ...                 ...                 ...   \n",
            "822    35.00                   0                   0                   0   \n",
            "823    10.00                   0                   0                   0   \n",
            "824    34.00                   0                   0                   0   \n",
            "825    65.00                   0                   0                   0   \n",
            "826    21.43                   0                   0                   0   \n",
            "\n",
            "     arrondissement_4.0  arrondissement_10.0  \n",
            "0                     0                    0  \n",
            "1                     0                    0  \n",
            "2                     0                    0  \n",
            "3                     0                    0  \n",
            "4                     0                    0  \n",
            "..                  ...                  ...  \n",
            "822                   0                    1  \n",
            "823                   0                    1  \n",
            "824                   0                    1  \n",
            "825                   0                    1  \n",
            "826                   0                    1  \n",
            "\n",
            "[818 rows x 6 columns]\n"
          ]
        }
      ]
    },
    {
      "cell_type": "markdown",
      "source": [
        "##Cleaning"
      ],
      "metadata": {
        "id": "8VRBPfIcWMsY"
      }
    },
    {
      "cell_type": "code",
      "source": [
        "d = np.array(one_hot_encoded_data)\n",
        "d[np.isnan(d)] = 0\n",
        "\n",
        "t = np.array(target)\n",
        "t.shape = (t.shape[0], 1)\n",
        "t[np.isnan(t)] = 0"
      ],
      "metadata": {
        "id": "kLh2aOrPTmVn"
      },
      "execution_count": 226,
      "outputs": []
    },
    {
      "cell_type": "code",
      "source": [],
      "metadata": {
        "id": "7JH8aIL8YAw5"
      },
      "execution_count": 226,
      "outputs": []
    },
    {
      "cell_type": "code",
      "source": [
        "print(house_data.head())"
      ],
      "metadata": {
        "colab": {
          "base_uri": "https://localhost:8080/"
        },
        "id": "MYUbE9A8YAu2",
        "outputId": "1029a535-f2e1-4182-d7f7-42911d5ebc40"
      },
      "execution_count": 227,
      "outputs": [
        {
          "output_type": "stream",
          "name": "stdout",
          "text": [
            "   price  surface  arrondissement\n",
            "0   1820     46.1             1.0\n",
            "1   1750     41.0             1.0\n",
            "2   1900     55.0             1.0\n",
            "3   1950     46.0             1.0\n",
            "4   1950     49.0             1.0\n"
          ]
        }
      ]
    },
    {
      "cell_type": "code",
      "source": [
        "\n",
        "one_hot_encoded_data = pd.get_dummies(house_data, columns = ['arrondissement'])\n",
        "print(one_hot_encoded_data.head())"
      ],
      "metadata": {
        "colab": {
          "base_uri": "https://localhost:8080/"
        },
        "id": "LxZQ6R1oYkll",
        "outputId": "070ce8db-2755-41a9-c580-5b6fdb056126"
      },
      "execution_count": 228,
      "outputs": [
        {
          "output_type": "stream",
          "name": "stdout",
          "text": [
            "   price  surface  arrondissement_1.0  arrondissement_2.0  arrondissement_3.0  \\\n",
            "0   1820     46.1                   1                   0                   0   \n",
            "1   1750     41.0                   1                   0                   0   \n",
            "2   1900     55.0                   1                   0                   0   \n",
            "3   1950     46.0                   1                   0                   0   \n",
            "4   1950     49.0                   1                   0                   0   \n",
            "\n",
            "   arrondissement_4.0  arrondissement_10.0  \n",
            "0                   0                    0  \n",
            "1                   0                    0  \n",
            "2                   0                    0  \n",
            "3                   0                    0  \n",
            "4                   0                    0  \n"
          ]
        }
      ]
    },
    {
      "cell_type": "code",
      "source": [
        "print(house_data.corr())"
      ],
      "metadata": {
        "colab": {
          "base_uri": "https://localhost:8080/"
        },
        "id": "VD__sc3SX1YB",
        "outputId": "d48d7e1d-6d4e-4397-e001-81407e6a6f31"
      },
      "execution_count": 229,
      "outputs": [
        {
          "output_type": "stream",
          "name": "stdout",
          "text": [
            "                   price   surface  arrondissement\n",
            "price           1.000000  0.904202       -0.236439\n",
            "surface         0.904202  1.000000       -0.111122\n",
            "arrondissement -0.236439 -0.111122        1.000000\n"
          ]
        }
      ]
    },
    {
      "cell_type": "code",
      "source": [
        "print(one_hot_encoded_data.corr())"
      ],
      "metadata": {
        "colab": {
          "base_uri": "https://localhost:8080/"
        },
        "id": "Mm_QWWoJYrRF",
        "outputId": "6a3a32cb-25c6-4017-9260-221b749592df"
      },
      "execution_count": 230,
      "outputs": [
        {
          "output_type": "stream",
          "name": "stdout",
          "text": [
            "                        price   surface  arrondissement_1.0  \\\n",
            "price                1.000000  0.904202            0.203018   \n",
            "surface              0.904202  1.000000            0.149433   \n",
            "arrondissement_1.0   0.203018  0.149433            1.000000   \n",
            "arrondissement_2.0  -0.088888 -0.114485           -0.211849   \n",
            "arrondissement_3.0  -0.010762 -0.010093           -0.254251   \n",
            "arrondissement_4.0   0.135862  0.076703           -0.256098   \n",
            "arrondissement_10.0 -0.237484 -0.108580           -0.253327   \n",
            "\n",
            "                     arrondissement_2.0  arrondissement_3.0  \\\n",
            "price                         -0.088888           -0.010762   \n",
            "surface                       -0.114485           -0.010093   \n",
            "arrondissement_1.0            -0.211849           -0.254251   \n",
            "arrondissement_2.0             1.000000           -0.226773   \n",
            "arrondissement_3.0            -0.226773            1.000000   \n",
            "arrondissement_4.0            -0.228420           -0.274139   \n",
            "arrondissement_10.0           -0.225948           -0.271172   \n",
            "\n",
            "                     arrondissement_4.0  arrondissement_10.0  \n",
            "price                          0.135862            -0.237484  \n",
            "surface                        0.076703            -0.108580  \n",
            "arrondissement_1.0            -0.256098            -0.253327  \n",
            "arrondissement_2.0            -0.228420            -0.225948  \n",
            "arrondissement_3.0            -0.274139            -0.271172  \n",
            "arrondissement_4.0             1.000000            -0.273143  \n",
            "arrondissement_10.0           -0.273143             1.000000  \n"
          ]
        }
      ]
    },
    {
      "cell_type": "markdown",
      "source": [
        "##Splitting the Data"
      ],
      "metadata": {
        "id": "K1V1zu9PWPNZ"
      }
    },
    {
      "cell_type": "code",
      "source": [
        "from sklearn.model_selection import train_test_split\n",
        "\n",
        "xtrain, xtest, ytrain, ytest = train_test_split(d, t, train_size=0.8)"
      ],
      "metadata": {
        "id": "wexK2nKTcCMl"
      },
      "execution_count": 231,
      "outputs": []
    },
    {
      "cell_type": "code",
      "source": [
        "print(xtrain.shape)\n",
        "print(xtest.shape)\n",
        "print(ytrain.shape)\n",
        "print(ytest.shape)"
      ],
      "metadata": {
        "colab": {
          "base_uri": "https://localhost:8080/"
        },
        "id": "XyCafbzIcCI5",
        "outputId": "afb32612-ea18-491a-96af-2919eb3ef7c7"
      },
      "execution_count": 232,
      "outputs": [
        {
          "output_type": "stream",
          "name": "stdout",
          "text": [
            "(654, 6)\n",
            "(164, 6)\n",
            "(654, 1)\n",
            "(164, 1)\n"
          ]
        }
      ]
    },
    {
      "cell_type": "markdown",
      "source": [
        "##Modeling"
      ],
      "metadata": {
        "id": "5dJ4LYJIWXts"
      }
    },
    {
      "cell_type": "code",
      "source": [
        "from sklearn import linear_model\n",
        "regr = linear_model.LinearRegression()\n",
        "regr.fit(xtrain, ytrain)"
      ],
      "metadata": {
        "colab": {
          "base_uri": "https://localhost:8080/"
        },
        "id": "_HmNWq9-bVTq",
        "outputId": "576ec0b1-b5e7-4714-c292-e594b7a3f3a9"
      },
      "execution_count": 233,
      "outputs": [
        {
          "output_type": "execute_result",
          "data": {
            "text/plain": [
              "LinearRegression()"
            ]
          },
          "metadata": {},
          "execution_count": 233
        }
      ]
    },
    {
      "cell_type": "markdown",
      "source": [
        "##Evaluation"
      ],
      "metadata": {
        "id": "qPNDnbugWZPJ"
      }
    },
    {
      "cell_type": "code",
      "source": [
        "\n",
        "predicted = regr.predict(xtest)"
      ],
      "metadata": {
        "id": "7O0b1dgqcj07"
      },
      "execution_count": 234,
      "outputs": []
    },
    {
      "cell_type": "code",
      "source": [
        "print(regr.score(xtest, ytest))"
      ],
      "metadata": {
        "colab": {
          "base_uri": "https://localhost:8080/"
        },
        "id": "SbeKqUsCXUhO",
        "outputId": "c1e69001-c95c-4c33-d842-e58dd3d80cec"
      },
      "execution_count": 235,
      "outputs": [
        {
          "output_type": "stream",
          "name": "stdout",
          "text": [
            "0.8778579190203417\n"
          ]
        }
      ]
    },
    {
      "cell_type": "code",
      "source": [
        "plt.plot(predicted, ytest, 'ro', markersize=4)\n",
        "plt.show()"
      ],
      "metadata": {
        "colab": {
          "base_uri": "https://localhost:8080/",
          "height": 265
        },
        "id": "IB-oXmg2yMT-",
        "outputId": "95ec1306-36bd-4327-ccff-54ac20bb1de8"
      },
      "execution_count": 236,
      "outputs": [
        {
          "output_type": "display_data",
          "data": {
            "text/plain": [
              "<Figure size 432x288 with 1 Axes>"
            ],
            "image/png": "[encoded data removed]"
          },
          "metadata": {
            "needs_background": "light"
          }
        }
      ]
    },
    {
      "cell_type": "code",
      "source": [],
      "metadata": {
        "id": "T2S27QX4J457"
      },
      "execution_count": 236,
      "outputs": []
    },
    {
      "cell_type": "markdown",
      "source": [
        "#1 Feature Model"
      ],
      "metadata": {
        "id": "MUxLcLzGWkoT"
      }
    },
    {
      "cell_type": "markdown",
      "source": [
        "##Cleaning"
      ],
      "metadata": {
        "id": "Qd7ZHbSQWnWC"
      }
    },
    {
      "cell_type": "code",
      "source": [
        "data = house_data['surface']\n",
        "target = house_data['price']\n",
        "\n",
        "d = np.array(data)\n",
        "d.shape = (d.shape[0], 1)\n",
        "d[np.isnan(d)] = 0\n",
        "\n",
        "t = np.array(target)\n",
        "t.shape = (t.shape[0], 1)\n",
        "t[np.isnan(t)] = 0\n",
        "print(t.shape)"
      ],
      "metadata": {
        "colab": {
          "base_uri": "https://localhost:8080/"
        },
        "id": "sO6HK5HjJ4vP",
        "outputId": "2ce65e9b-f582-46ad-a36e-8b89a56d18a2"
      },
      "execution_count": 237,
      "outputs": [
        {
          "output_type": "stream",
          "name": "stdout",
          "text": [
            "(818, 1)\n"
          ]
        }
      ]
    },
    {
      "cell_type": "markdown",
      "source": [
        "##Splitting the Data"
      ],
      "metadata": {
        "id": "c65cy4rGWoha"
      }
    },
    {
      "cell_type": "code",
      "source": [
        "from sklearn.model_selection import train_test_split\n",
        "\n",
        "xtrain, xtest, ytrain, ytest = train_test_split(d, t, train_size=0.8)\n",
        "print(xtrain.shape)\n",
        "print(xtest.shape)\n",
        "print(ytrain.shape)\n",
        "print(ytest.shape)"
      ],
      "metadata": {
        "colab": {
          "base_uri": "https://localhost:8080/"
        },
        "id": "9FqkyL2PKHrU",
        "outputId": "cb70972a-45d7-4276-e842-56ccc9828623"
      },
      "execution_count": 238,
      "outputs": [
        {
          "output_type": "stream",
          "name": "stdout",
          "text": [
            "(654, 1)\n",
            "(164, 1)\n",
            "(654, 1)\n",
            "(164, 1)\n"
          ]
        }
      ]
    },
    {
      "cell_type": "markdown",
      "source": [
        "##Modeling, Training and Evaluation"
      ],
      "metadata": {
        "id": "d8V0tgdpWrGH"
      }
    },
    {
      "cell_type": "code",
      "source": [
        "from sklearn import linear_model\n",
        "regr = linear_model.LinearRegression()\n",
        "regr.fit(xtrain, ytrain)\n",
        "\n",
        "predicted = regr.predict(xtest)"
      ],
      "metadata": {
        "id": "qQ9-WN1ZKMfL"
      },
      "execution_count": 239,
      "outputs": []
    },
    {
      "cell_type": "code",
      "source": [
        "print(regr.score(xtest, ytest))"
      ],
      "metadata": {
        "colab": {
          "base_uri": "https://localhost:8080/"
        },
        "id": "862aYal_XPG6",
        "outputId": "45a4d23d-4256-47d7-efd5-d0fea37caeb2"
      },
      "execution_count": 240,
      "outputs": [
        {
          "output_type": "stream",
          "name": "stdout",
          "text": [
            "0.8128074026451754\n"
          ]
        }
      ]
    },
    {
      "cell_type": "code",
      "source": [
        "plt.plot(predicted, ytest, 'ro', markersize=4)\n",
        "plt.show()"
      ],
      "metadata": {
        "colab": {
          "base_uri": "https://localhost:8080/",
          "height": 265
        },
        "id": "YT0GyIdBKPpi",
        "outputId": "f88f2221-67a8-4791-b21e-8abd3c9400fb"
      },
      "execution_count": 241,
      "outputs": [
        {
          "output_type": "display_data",
          "data": {
            "text/plain": [
              "<Figure size 432x288 with 1 Axes>"
            ],
            "image/png": "[encoded data removed]"
          },
          "metadata": {
            "needs_background": "light"
          }
        }
      ]
    }
  ]
}