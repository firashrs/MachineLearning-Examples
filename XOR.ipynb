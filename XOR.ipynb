{
  "nbformat": 4,
  "nbformat_minor": 0,
  "metadata": {
    "colab": {
      "name": "XOR.ipynb",
      "provenance": []
    },
    "kernelspec": {
      "name": "python3",
      "display_name": "Python 3"
    },
    "language_info": {
      "name": "python"
    }
  },
  "cells": [
    {
      "cell_type": "code",
      "metadata": {
        "id": "JJsm1mfrzN6u"
      },
      "source": [
        "\n",
        "import tensorflow as tf\n",
        "import pandas as pd\n",
        "import numpy as np\n",
        "from matplotlib import pyplot as plt"
      ],
      "execution_count": null,
      "outputs": []
    },
    {
      "cell_type": "code",
      "metadata": {
        "colab": {
          "base_uri": "https://localhost:8080/"
        },
        "id": "HY8NHisf0BX7",
        "outputId": "d920a6dc-0a6c-4239-afb2-90772d472071"
      },
      "source": [
        "print('Defyning Hyperparameters')\n",
        "epselon = 0.1\n",
        "learning_rate = 0.005\n",
        "epochs = 1000"
      ],
      "execution_count": null,
      "outputs": [
        {
          "output_type": "stream",
          "name": "stdout",
          "text": [
            "Defyning Hyperparameters\n"
          ]
        }
      ]
    },
    {
      "cell_type": "code",
      "metadata": {
        "colab": {
          "base_uri": "https://localhost:8080/"
        },
        "id": "yxmcJGTZ0DpW",
        "outputId": "6aaa26d5-eb94-4525-bea2-1042de563d40"
      },
      "source": [
        "print('Creating The Model')\n",
        "model = tf.keras.models.Sequential()\n",
        "model.add(tf.keras.layers.Dense(units=2, input_shape=(1,2), activation=tf.sigmoid))\n",
        "model.add(tf.keras.layers.Dense(units=4, activation=tf.sigmoid))\n",
        "model.add(tf.keras.layers.Dense(units=1))\n",
        "\n",
        "model.compile(optimizer=tf.keras.optimizers.RMSprop(learning_rate=learning_rate),\n",
        "                  loss=\"mean_squared_error\",\n",
        "                  metrics=[tf.keras.metrics.RootMeanSquaredError()])"
      ],
      "execution_count": null,
      "outputs": [
        {
          "output_type": "stream",
          "name": "stdout",
          "text": [
            "Creating The Model\n"
          ]
        }
      ]
    },
    {
      "cell_type": "code",
      "metadata": {
        "colab": {
          "base_uri": "https://localhost:8080/"
        },
        "id": "af0xOjdNPvBc",
        "outputId": "5ed3a73d-d39b-4235-8e0f-0916d5545a6b"
      },
      "source": [
        "model.summary()"
      ],
      "execution_count": null,
      "outputs": [
        {
          "output_type": "stream",
          "name": "stdout",
          "text": [
            "Model: \"sequential\"\n",
            "_________________________________________________________________\n",
            " Layer (type)                Output Shape              Param #   \n",
            "=================================================================\n",
            " dense (Dense)               (None, 1, 2)              6         \n",
            "                                                                 \n",
            " dense_1 (Dense)             (None, 1, 4)              12        \n",
            "                                                                 \n",
            " dense_2 (Dense)             (None, 1, 1)              5         \n",
            "                                                                 \n",
            "=================================================================\n",
            "Total params: 23\n",
            "Trainable params: 23\n",
            "Non-trainable params: 0\n",
            "_________________________________________________________________\n"
          ]
        }
      ]
    },
    {
      "cell_type": "code",
      "metadata": {
        "colab": {
          "base_uri": "https://localhost:8080/"
        },
        "id": "FljpDQFI0Ye1",
        "outputId": "794fcd18-af32-4dfa-a10f-fd8f34a8e3b5"
      },
      "source": [
        "\n",
        "feature = ([[0.0, 0.0],[0.0, 1.0],[1.0, 0.0],[1.0, 1.0]])\n",
        "label   = ([0.0, 1.0, 1.0, 0.0])\n",
        "\n",
        "feature = np.array(feature)\n",
        "label = np.array(label)\n",
        "feature = feature.reshape(4,1,2)\n",
        "label = label.reshape(4,1)\n",
        "print(feature.shape)\n",
        "print(label.shape)"
      ],
      "execution_count": null,
      "outputs": [
        {
          "output_type": "stream",
          "name": "stdout",
          "text": [
            "(4, 1, 2)\n",
            "(4, 1)\n"
          ]
        }
      ]
    },
    {
      "cell_type": "code",
      "metadata": {
        "id": "iLQesNMA0HN_"
      },
      "source": [
        "print('Training The Model')\n",
        "history = model.fit(x=feature,\n",
        "                        y=label,\n",
        "                        epochs=epochs)"
      ],
      "execution_count": null,
      "outputs": []
    },
    {
      "cell_type": "code",
      "metadata": {
        "colab": {
          "base_uri": "https://localhost:8080/",
          "height": 253
        },
        "id": "nI6ZjBDE0LuZ",
        "outputId": "9efcc29b-f559-4560-9f65-b4ccca4910e4"
      },
      "source": [
        "print('Visualising The Loss Curve')\n",
        "plt.figure()\n",
        "plt.xlabel('Epochs')\n",
        "plt.ylabel('rms')\n",
        "epochsss = history.epoch\n",
        "hist = pd.DataFrame(history.history)\n",
        "rmse = hist[\"root_mean_squared_error\"]\n",
        "plt.plot(epochsss, rmse, label='Loss')\n",
        "plt.legend()\n",
        "plt.ylim([rmse.min()*0.97, rmse.max()])\n",
        "plt.show()"
      ],
      "execution_count": null,
      "outputs": [
        {
          "output_type": "stream",
          "name": "stdout",
          "text": [
            "Visualising The Loss Curve\n"
          ]
        },
        {
          "output_type": "display_data",
          "data": {
            "image/png": "[encoded data removed]",
            "text/plain": [
              "<Figure size 432x288 with 1 Axes>"
            ]
          },
          "metadata": {
            "needs_background": "light"
          }
        }
      ]
    },
    {
      "cell_type": "code",
      "metadata": {
        "colab": {
          "base_uri": "https://localhost:8080/"
        },
        "id": "Gs4ikqRP0O2F",
        "outputId": "8672a9fd-d207-495b-c67c-37ed367ad996"
      },
      "source": [
        "print('Testing The Model.')\n",
        "t_feature = ([[0.0, 0.0],[0.0, 1.0]])\n",
        "t_label   = ([0.0, 1.0])\n",
        "t_feature = np.array(t_feature)\n",
        "t_label = np.array(t_label)\n",
        "t_feature = t_feature.reshape(2,1,2)\n",
        "t_label = t_label.reshape(2,1)\n",
        "model.evaluate(t_feature, t_label)"
      ],
      "execution_count": null,
      "outputs": [
        {
          "output_type": "stream",
          "name": "stdout",
          "text": [
            "Testing The Model.\n",
            "1/1 [==============================] - 0s 183ms/step - loss: 3.2284e-04 - root_mean_squared_error: 0.0180\n"
          ]
        },
        {
          "output_type": "execute_result",
          "data": {
            "text/plain": [
              "[0.00032283866312354803, 0.01796771213412285]"
            ]
          },
          "metadata": {},
          "execution_count": 8
        }
      ]
    },
    {
      "cell_type": "code",
      "metadata": {
        "colab": {
          "base_uri": "https://localhost:8080/"
        },
        "id": "iuvOocaj0R-p",
        "outputId": "5484684f-dd74-4e8d-b8eb-c6620988b0e4"
      },
      "source": [
        "print('Running The Model.')\n",
        "\n",
        "def predict(inputs):\n",
        "    inputs = np.array(inputs)\n",
        "    inputs = inputs.reshape(1,1,2)\n",
        "    yy =model.predict(inputs)\n",
        "    if abs(yy) < epselon:\n",
        "        return 0\n",
        "    elif abs(yy - 1.0) < epselon:\n",
        "        return 1\n",
        "    else:\n",
        "        return -1\n",
        "print('--------------------------')\n",
        "print('-- A --- B -------- Res --')\n",
        "print('--------------------------')\n",
        "for i in feature:\n",
        "  print('--',int(i[0][0]),'---',int(i[0][1]),'-------- ',predict(i[0]))\n",
        "print('--------------------------')"
      ],
      "execution_count": null,
      "outputs": [
        {
          "output_type": "stream",
          "name": "stdout",
          "text": [
            "Running The Model.\n",
            "--------------------------\n",
            "-- A --- B -------- Res --\n",
            "--------------------------\n",
            "-- 0 --- 0 --------  0\n",
            "-- 0 --- 1 --------  1\n",
            "-- 1 --- 0 --------  1\n",
            "-- 1 --- 1 --------  0\n",
            "--------------------------\n"
          ]
        }
      ]
    }
  ]
}
